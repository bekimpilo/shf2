{
  "nbformat": 4,
  "nbformat_minor": 0,
  "metadata": {
    "colab": {
      "provenance": [],
      "authorship_tag": "ABX9TyMUVU3cQ8pW4+UpvBmjsuK9"
    },
    "kernelspec": {
      "name": "python3",
      "display_name": "Python 3"
    },
    "language_info": {
      "name": "python"
    }
  },
  "cells": [
    {
      "cell_type": "code",
      "source": [
        "import pandas as pd\n",
        "import streamlit as st\n",
        "from polyfuzz import PolyFuzz\n"
      ],
      "metadata": {
        "id": "JPxgJbIn2OGg"
      },
      "execution_count": null,
      "outputs": []
    },
    {
      "cell_type": "code",
      "execution_count": null,
      "metadata": {
        "id": "7D3CqC022BnE"
      },
      "outputs": [],
      "source": [
        "\n",
        "st.set_page_config(page_title=\"Medicine utilisation\", page_icon=\":guardsman:\", layout=\"wide\")\n",
        "st.image(\"chailogo.png\", width=200)\n",
        "st.title(\"Facility name matching\")\n",
        "\n",
        "file_1 = st.file_uploader(\"Upload the first CSV file\", type=[\"csv\"])\n",
        "file_2 = st.file_uploader(\"Upload the second CSV file (optional)\", type=[\"csv\"])\n",
        "standard_names_file = st.file_uploader(\"Upload names file\", type=[\"csv\", \"txt\"])\n",
        "\n",
        "if file_1:\n",
        "    df1 = pd.read_csv(file_1)\n",
        "    st.dataframe(df1.head())\n",
        "\n",
        "    if file_2:\n",
        "        df2 = pd.read_csv(file_2)\n",
        "        st.dataframe(df2.head())\n",
        "\n",
        "        if standard_names_file:\n",
        "            standard_names_df = pd.read_csv(standard_names_file, header=None)\n",
        "            fuzzer = PolyFuzz('TF-IDF')\n",
        "            fuzzer.fit(standard_names_df[0])\n",
        "            df_appended = pd.concat([df1, df2], axis=0)\n",
        "            df_appended[\"standard_name\"] = df_appended[\"description\"].apply(lambda x: fuzzer.get_best(x))\n",
        "            st.dataframe(df_appended.head())\n",
        "            \n",
        "            matched_pct = len(df_appended[df_appended[\"standard_name\"].notnull()]) / len(df_appended) * 100\n",
        "            unmatched_pct = len(df_appended[df_appended[\"standard_name\"].isnull()]) / len(df_appended) * 100\n",
        "            st.write(f\"Percentage of successfully matched facility names: {matched_pct:.2f}%\")\n",
        "            st.write(f\"Percentage of unmatched facility names: {unmatched_pct:.2f}%\")\n",
        "            \n",
        "            if st.button('Download updated facility names as TXT'):\n",
        "                df_appended[\"standard_name\"].to_csv(\"updated_facility_names.txt\", index=False, header=False)\n",
        "                st.success('Updated facility names downloaded as TXT')\n",
        "else:\n",
        "    st.warning(\"No file was uploaded.\")"
      ]
    }
  ]
}